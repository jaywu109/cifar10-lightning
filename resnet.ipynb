{
  "cells": [
    {
      "cell_type": "code",
      "execution_count": 1,
      "metadata": {
        "id": "J3dnDwhDFItY"
      },
      "outputs": [
        {
          "name": "stderr",
          "output_type": "stream",
          "text": [
            "Global seed set to 7\n"
          ]
        }
      ],
      "source": [
        "import os \n",
        "import albumentations as A\n",
        "from albumentations.pytorch import ToTensorV2\n",
        "import cv2\n",
        "from PIL import Image\n",
        "import numpy as np\n",
        "import matplotlib.pyplot as plt\n",
        "import pandas as pd\n",
        "import seaborn as sn\n",
        "\n",
        "import torch\n",
        "import torch.nn as nn\n",
        "import torch.nn.functional as F\n",
        "from torch.utils.data.sampler import SubsetRandomSampler\n",
        "import torchvision\n",
        "import torchvision.transforms as transforms\n",
        "from pytorch_lightning import LightningModule, Trainer, seed_everything\n",
        "from pytorch_lightning.callbacks import LearningRateMonitor, ModelCheckpoint\n",
        "from pytorch_lightning.callbacks.progress import TQDMProgressBar, RichProgressBar\n",
        "from pytorch_lightning.loggers import CSVLogger\n",
        "from torchmetrics.functional import accuracy\n",
        "\n",
        "seed_everything(7)\n",
        "\n",
        "PATH_DATASETS = './data'\n",
        "BATCH_SIZE = 350 if torch.cuda.is_available() else 64\n",
        "NUM_WORKERS = int(os.cpu_count() / 2)\n",
        "VALID_SIZE=0.1\n",
        "CURRENT_PATH = globals()['_dh'][0]\n",
        "\n",
        "def imshow(img):\n",
        "    npimg = img.numpy()\n",
        "    plt.imshow(np.transpose(npimg, (1, 2, 0)))\n",
        "    plt.show()"
      ]
    },
    {
      "cell_type": "markdown",
      "metadata": {
        "id": "iIyn9StSFItV"
      },
      "source": [
        "\n",
        "### 1. Load and normalize CIFAR10"
      ]
    },
    {
      "cell_type": "code",
      "execution_count": 2,
      "metadata": {},
      "outputs": [
        {
          "name": "stderr",
          "output_type": "stream",
          "text": [
            "/opt/conda/lib/python3.8/site-packages/albumentations/augmentations/dropout/cutout.py:49: FutureWarning: Cutout has been deprecated. Please use CoarseDropout\n",
            "  warnings.warn(\n"
          ]
        },
        {
          "name": "stdout",
          "output_type": "stream",
          "text": [
            "Files already downloaded and verified\n",
            "Files already downloaded and verified\n",
            "Files already downloaded and verified\n"
          ]
        }
      ],
      "source": [
        "class Cifar10AlbuDataset(torchvision.datasets.CIFAR10):\n",
        "    def __init__(self, root=\"~/data/cifar10\", train=True, download=True, transform=None):\n",
        "        super().__init__(root=root, train=train, download=download, transform=transform)\n",
        "\n",
        "    def __getitem__(self, index):\n",
        "        image, label = self.data[index], self.targets[index]\n",
        "\n",
        "        if self.transform is not None:\n",
        "            image = self.transform(image=np.asarray(image))[\"image\"] # the result of albumentations is a dictionary\n",
        "\n",
        "        return image, label\n",
        "\n",
        "train_transform =  A.Compose([\n",
        "    A.Sequential([\n",
        "    A.PadIfNeeded(\n",
        "        min_height=32+8,\n",
        "        min_width=32+8,\n",
        "    ),\n",
        "    A.RandomCrop(\n",
        "        height=32,\n",
        "        width=32\n",
        "    )], p=1.0), # work as the randomcrop in torchvision\n",
        "    A.HorizontalFlip(),\n",
        "    A.Cutout(num_holes=2, max_h_size=8, max_w_size=8, fill_value=0, always_apply=False, p=0.5),\n",
        "    A.Normalize(\n",
        "        mean=[x / 255.0 for x in [125.3, 123.0, 113.9]],\n",
        "        std=[x / 255.0 for x in [63.0, 62.1, 66.7]],\n",
        "    ),\n",
        "    ToTensorV2()\n",
        "])\n",
        "\n",
        "eval_transform =  A.Compose([\n",
        "    A.Normalize(\n",
        "        mean=[x / 255.0 for x in [125.3, 123.0, 113.9]],\n",
        "        std=[x / 255.0 for x in [63.0, 62.1, 66.7]],\n",
        "    ),\n",
        "    ToTensorV2()\n",
        "])\n",
        "\n",
        "train_dataset = Cifar10AlbuDataset(\n",
        "    root=PATH_DATASETS, train=True,\n",
        "    download=True, transform=train_transform,\n",
        ")\n",
        "\n",
        "valid_dataset = Cifar10AlbuDataset(\n",
        "    root=PATH_DATASETS, train=True,\n",
        "    download=True, transform=eval_transform,\n",
        ")\n",
        "\n",
        "test_dataset = Cifar10AlbuDataset(\n",
        "    root=PATH_DATASETS, train=False,\n",
        "    download=True, transform=eval_transform,\n",
        ")\n",
        "\n",
        "num_train = len(train_dataset)\n",
        "indices = list(range(num_train))\n",
        "split = int(np.floor(VALID_SIZE * num_train))\n",
        "\n",
        "train_idx, valid_idx = indices[split:], indices[:split]\n",
        "train_sampler = SubsetRandomSampler(train_idx)\n",
        "valid_sampler = SubsetRandomSampler(valid_idx)\n",
        "\n",
        "train_loader = torch.utils.data.DataLoader(\n",
        "    train_dataset, batch_size=BATCH_SIZE, sampler=train_sampler,\n",
        "    num_workers=NUM_WORKERS)\n",
        "valid_loader = torch.utils.data.DataLoader(\n",
        "    valid_dataset, batch_size=BATCH_SIZE, sampler=valid_sampler,\n",
        "    num_workers=NUM_WORKERS)\n",
        "test_loader = torch.utils.data.DataLoader(\n",
        "    test_dataset, batch_size=4, num_workers=NUM_WORKERS)\n",
        "\n",
        "classes = ('plane', 'car', 'bird', 'cat',\n",
        "           'deer', 'dog', 'frog', 'horse', 'ship', 'truck')    "
      ]
    },
    {
      "cell_type": "markdown",
      "metadata": {
        "id": "qxW5Hj5tFIta"
      },
      "source": [
        "Let us show some of the training images, for fun.\n",
        "\n"
      ]
    },
    {
      "cell_type": "code",
      "execution_count": 3,
      "metadata": {
        "id": "8jAtxCizFItb"
      },
      "outputs": [
        {
          "name": "stdout",
          "output_type": "stream",
          "text": [
            "Files already downloaded and verified\n"
          ]
        },
        {
          "data": {
            "image/png": "[encoded data removed]",
            "text/plain": [
              "<Figure size 432x288 with 1 Axes>"
            ]
          },
          "metadata": {
            "needs_background": "light"
          },
          "output_type": "display_data"
        },
        {
          "name": "stdout",
          "output_type": "stream",
          "text": [
            "frog  truck truck deer \n"
          ]
        }
      ],
      "source": [
        "demo_train_transform =  A.Compose([\n",
        "    A.Sequential([\n",
        "    A.PadIfNeeded(\n",
        "        min_height=32+8,\n",
        "        min_width=32+8,\n",
        "    ),\n",
        "    A.RandomCrop(\n",
        "        height=32,\n",
        "        width=32\n",
        "    )], p=1.0),\n",
        "    A.HorizontalFlip(),\n",
        "    A.Cutout(num_holes=2, max_h_size=8, max_w_size=8, fill_value=0, always_apply=False, p=0.5),\n",
        "    ToTensorV2()\n",
        "])\n",
        "\n",
        "demo_train_dataset = Cifar10AlbuDataset(\n",
        "    root=PATH_DATASETS, train=True,\n",
        "    download=True, transform=demo_train_transform,\n",
        ")\n",
        "\n",
        "demo_train_loader = torch.utils.data.DataLoader(\n",
        "    demo_train_dataset, batch_size=4, num_workers=NUM_WORKERS)\n",
        "\n",
        "# get some random training images\n",
        "dataiter = iter(demo_train_loader)\n",
        "images, labels = dataiter.next()\n",
        "\n",
        "# show images\n",
        "imshow(torchvision.utils.make_grid(images))\n",
        "# print labels\n",
        "print(' '.join(f'{classes[labels[j]]:5s}' for j in range(4)))"
      ]
    },
    {
      "cell_type": "markdown",
      "metadata": {
        "id": "Uf6L5tnRFItc"
      },
      "source": [
        "### 2. Define a Convolutional Neural Network\n",
        "\n"
      ]
    },
    {
      "cell_type": "code",
      "execution_count": 4,
      "metadata": {},
      "outputs": [],
      "source": [
        "def create_model():\n",
        "    model = torchvision.models.resnet18(pretrained=False, num_classes=10)\n",
        "    model.conv1 = nn.Conv2d(3, 64, kernel_size=(3, 3), stride=(1, 1), padding=(1, 1), bias=False)\n",
        "    model.maxpool = nn.Identity()\n",
        "    return model"
      ]
    },
    {
      "cell_type": "markdown",
      "metadata": {
        "id": "Ywxh4f5lFItd"
      },
      "source": [
        "### 3. Define a Loss function and optimizer\n",
        "\n"
      ]
    },
    {
      "cell_type": "code",
      "execution_count": 5,
      "metadata": {},
      "outputs": [],
      "source": [
        "class ResNet(LightningModule):\n",
        "    def __init__(self, lr=0.005):\n",
        "        super().__init__()\n",
        "\n",
        "        self.save_hyperparameters()\n",
        "        self.model = create_model()\n",
        "\n",
        "    def forward(self, x):\n",
        "        out = self.model(x)\n",
        "        return F.log_softmax(out, dim=1)\n",
        "\n",
        "    def training_step(self, batch, batch_idx):\n",
        "        x, y = batch\n",
        "        logits = self(x)\n",
        "        loss = F.nll_loss(logits, y)\n",
        "        self.log(\"train_loss\", loss)\n",
        "        return loss\n",
        "\n",
        "    def evaluate(self, batch, stage=None):\n",
        "        x, y = batch\n",
        "        logits = self(x)\n",
        "        loss = F.nll_loss(logits, y)\n",
        "        preds = torch.argmax(logits, dim=1)\n",
        "        acc = accuracy(preds, y)\n",
        "\n",
        "        if stage:\n",
        "            self.log(f\"{stage}_loss\", loss, prog_bar=True)\n",
        "            self.log(f\"{stage}_acc\", acc, prog_bar=True)\n",
        "\n",
        "    def validation_step(self, batch, batch_idx):\n",
        "        self.evaluate(batch, \"val\")\n",
        "\n",
        "    def test_step(self, batch, batch_idx):\n",
        "        self.evaluate(batch, \"test\")\n",
        "\n",
        "    def configure_optimizers(self):\n",
        "        optimizer = torch.optim.Adam(self.parameters(), lr=self.hparams.lr, betas=(0.9, 0.99), weight_decay=5e-4)\n",
        "        return optimizer"
      ]
    },
    {
      "cell_type": "code",
      "execution_count": 6,
      "metadata": {},
      "outputs": [
        {
          "name": "stderr",
          "output_type": "stream",
          "text": [
            "GPU available: True (cuda), used: True\n",
            "TPU available: False, using: 0 TPU cores\n",
            "IPU available: False, using: 0 IPUs\n",
            "HPU available: False, using: 0 HPUs\n",
            "LOCAL_RANK: 0 - CUDA_VISIBLE_DEVICES: [0]\n"
          ]
        },
        {
          "data": {
            "application/json": {
              "ascii": false,
              "bar_format": null,
              "colour": null,
              "elapsed": 0.016894817352294922,
              "initial": 0,
              "n": 0,
              "ncols": null,
              "nrows": null,
              "postfix": null,
              "prefix": "Finding best initial lr",
              "rate": null,
              "total": 100,
              "unit": "it",
              "unit_divisor": 1000,
              "unit_scale": false
            },
            "application/vnd.jupyter.widget-view+json": {
              "model_id": "1cbc4fe5588140a8a11d4fc5db78aebf",
              "version_major": 2,
              "version_minor": 0
            },
            "text/plain": [
              "Finding best initial lr:   0%|          | 0/100 [00:00<?, ?it/s]"
            ]
          },
          "metadata": {},
          "output_type": "display_data"
        },
        {
          "name": "stderr",
          "output_type": "stream",
          "text": [
            "`Trainer.fit` stopped: `max_steps=100` reached.\n",
            "Restoring states from the checkpoint path at /workspace/CIFAR10_lightning/.lr_find_d9ee6768-dbc7-4ac8-8b0c-134bfa620c21.ckpt\n"
          ]
        },
        {
          "name": "stdout",
          "output_type": "stream",
          "text": [
            "0.000630957344480193\n"
          ]
        },
        {
          "data": {
            "image/png": "[encoded data removed]",
            "text/plain": [
              "<Figure size 432x288 with 1 Axes>"
            ]
          },
          "metadata": {
            "needs_background": "light"
          },
          "output_type": "display_data"
        }
      ],
      "source": [
        "tune_model = ResNet()\n",
        "\n",
        "trainer = Trainer(\n",
        "    accelerator=\"gpu\",\n",
        "    devices=1,\n",
        ")\n",
        "\n",
        "lr_finder = trainer.tuner.lr_find(tune_model, train_loader, valid_loader)\n",
        "\n",
        "# Results can be found in\n",
        "lr_finder.results\n",
        "\n",
        "# Plot with\n",
        "fig = lr_finder.plot(suggest=True)\n",
        "fig.show()\n",
        "\n",
        "# Pick point based on plot, or get suggestion\n",
        "print(lr_finder.suggestion())"
      ]
    },
    {
      "cell_type": "code",
      "execution_count": 7,
      "metadata": {},
      "outputs": [
        {
          "name": "stderr",
          "output_type": "stream",
          "text": [
            "GPU available: True (cuda), used: True\n",
            "TPU available: False, using: 0 TPU cores\n",
            "IPU available: False, using: 0 IPUs\n",
            "HPU available: False, using: 0 HPUs\n"
          ]
        }
      ],
      "source": [
        "TRIAL_NUM = 2\n",
        "\n",
        "model = ResNet(lr=lr_finder.suggestion())\n",
        "\n",
        "ckpt_dir = os.path.join(CURRENT_PATH, f\"cifar10_ckpt/trial_{TRIAL_NUM}\")\n",
        "checkpoint_callback = ModelCheckpoint(\n",
        "    save_top_k=5,\n",
        "    monitor=\"val_acc\",\n",
        "    mode=\"max\",\n",
        "    dirpath=ckpt_dir,\n",
        "    filename=\"cifar10-{epoch:02d}-{val_acc:.3f}\",\n",
        ")\n",
        "\n",
        "\n",
        "trainer = Trainer(\n",
        "    max_epochs=70,\n",
        "    accelerator=\"gpu\",\n",
        "    devices=1,\n",
        "    logger=CSVLogger(save_dir=os.path.join(CURRENT_PATH, f\"cifar10_logs/trial_{TRIAL_NUM}\")),\n",
        "    callbacks=[checkpoint_callback, LearningRateMonitor(logging_interval=\"step\"), RichProgressBar()],\n",
        ")\n"
      ]
    },
    {
      "cell_type": "markdown",
      "metadata": {
        "id": "RQmVMN6VFIte"
      },
      "source": [
        "### 4. Train the network"
      ]
    },
    {
      "cell_type": "code",
      "execution_count": 8,
      "metadata": {},
      "outputs": [
        {
          "name": "stderr",
          "output_type": "stream",
          "text": [
            "LOCAL_RANK: 0 - CUDA_VISIBLE_DEVICES: [0]\n"
          ]
        },
        {
          "data": {
            "text/html": [
              "<pre style=\"white-space:pre;overflow-x:auto;line-height:normal;font-family:Menlo,'DejaVu Sans Mono',consolas,'Courier New',monospace\">┏━━━┳━━━━━━━┳━━━━━━━━┳━━━━━━━━┓\n",
              "┃<span style=\"color: #800080; text-decoration-color: #800080; font-weight: bold\">   </span>┃<span style=\"color: #800080; text-decoration-color: #800080; font-weight: bold\"> Name  </span>┃<span style=\"color: #800080; text-decoration-color: #800080; font-weight: bold\"> Type   </span>┃<span style=\"color: #800080; text-decoration-color: #800080; font-weight: bold\"> Params </span>┃\n",
              "┡━━━╇━━━━━━━╇━━━━━━━━╇━━━━━━━━┩\n",
              "│<span style=\"color: #7f7f7f; text-decoration-color: #7f7f7f\"> 0 </span>│ model │ ResNet │ 11.2 M │\n",
              "└───┴───────┴────────┴────────┘\n",
              "</pre>\n"
            ],
            "text/plain": [
              "┏━━━┳━━━━━━━┳━━━━━━━━┳━━━━━━━━┓\n",
              "┃\u001b[1;35m \u001b[0m\u001b[1;35m \u001b[0m\u001b[1;35m \u001b[0m┃\u001b[1;35m \u001b[0m\u001b[1;35mName \u001b[0m\u001b[1;35m \u001b[0m┃\u001b[1;35m \u001b[0m\u001b[1;35mType  \u001b[0m\u001b[1;35m \u001b[0m┃\u001b[1;35m \u001b[0m\u001b[1;35mParams\u001b[0m\u001b[1;35m \u001b[0m┃\n",
              "┡━━━╇━━━━━━━╇━━━━━━━━╇━━━━━━━━┩\n",
              "│\u001b[2m \u001b[0m\u001b[2m0\u001b[0m\u001b[2m \u001b[0m│ model │ ResNet │ 11.2 M │\n",
              "└───┴───────┴────────┴────────┘\n"
            ]
          },
          "metadata": {},
          "output_type": "display_data"
        },
        {
          "data": {
            "text/html": [
              "<pre style=\"white-space:pre;overflow-x:auto;line-height:normal;font-family:Menlo,'DejaVu Sans Mono',consolas,'Courier New',monospace\"><span style=\"font-weight: bold\">Trainable params</span>: 11.2 M                                                                                           \n",
              "<span style=\"font-weight: bold\">Non-trainable params</span>: 0                                                                                            \n",
              "<span style=\"font-weight: bold\">Total params</span>: 11.2 M                                                                                               \n",
              "<span style=\"font-weight: bold\">Total estimated model params size (MB)</span>: 44                                                                         \n",
              "</pre>\n"
            ],
            "text/plain": [
              "\u001b[1mTrainable params\u001b[0m: 11.2 M                                                                                           \n",
              "\u001b[1mNon-trainable params\u001b[0m: 0                                                                                            \n",
              "\u001b[1mTotal params\u001b[0m: 11.2 M                                                                                               \n",
              "\u001b[1mTotal estimated model params size (MB)\u001b[0m: 44                                                                         \n"
            ]
          },
          "metadata": {},
          "output_type": "display_data"
        },
        {
          "data": {
            "application/vnd.jupyter.widget-view+json": {
              "model_id": "fdb47af716454905979bf85278b04e75",
              "version_major": 2,
              "version_minor": 0
            },
            "text/plain": [
              "Output()"
            ]
          },
          "metadata": {},
          "output_type": "display_data"
        },
        {
          "name": "stderr",
          "output_type": "stream",
          "text": [
            "`Trainer.fit` stopped: `max_epochs=70` reached.\n"
          ]
        },
        {
          "data": {
            "text/html": [
              "<pre style=\"white-space:pre;overflow-x:auto;line-height:normal;font-family:Menlo,'DejaVu Sans Mono',consolas,'Courier New',monospace\"></pre>\n"
            ],
            "text/plain": []
          },
          "metadata": {},
          "output_type": "display_data"
        },
        {
          "data": {
            "text/html": [
              "<pre style=\"white-space:pre;overflow-x:auto;line-height:normal;font-family:Menlo,'DejaVu Sans Mono',consolas,'Courier New',monospace\">\n",
              "</pre>\n"
            ],
            "text/plain": [
              "\n"
            ]
          },
          "metadata": {},
          "output_type": "display_data"
        }
      ],
      "source": [
        "trainer.fit(model, train_loader, valid_loader)"
      ]
    },
    {
      "cell_type": "markdown",
      "metadata": {
        "id": "ha8mYmM-FItg"
      },
      "source": [
        "### 5. Test the network on the test data"
      ]
    },
    {
      "cell_type": "code",
      "execution_count": 9,
      "metadata": {},
      "outputs": [
        {
          "name": "stdout",
          "output_type": "stream",
          "text": [
            "Files already downloaded and verified\n"
          ]
        },
        {
          "data": {
            "image/png": "[encoded data removed]",
            "text/plain": [
              "<Figure size 432x288 with 1 Axes>"
            ]
          },
          "metadata": {
            "needs_background": "light"
          },
          "output_type": "display_data"
        },
        {
          "name": "stdout",
          "output_type": "stream",
          "text": [
            "GroundTruth:  cat   ship  ship  plane\n"
          ]
        }
      ],
      "source": [
        "demo_test_transform =  ToTensorV2()\n",
        "\n",
        "demo_test_dataset = Cifar10AlbuDataset(\n",
        "    root=PATH_DATASETS, train=False, download=True, transform=demo_test_transform)\n",
        "\n",
        "demo_test_loader = torch.utils.data.DataLoader(\n",
        "    demo_test_dataset, batch_size=4, num_workers=NUM_WORKERS)\n",
        "\n",
        "# get some random training images\n",
        "dataiter = iter(demo_test_loader)\n",
        "images, labels = dataiter.next()\n",
        "\n",
        "imshow(torchvision.utils.make_grid(images))\n",
        "print('GroundTruth: ', ' '.join(f'{classes[labels[j]]:5s}' for j in range(4)))"
      ]
    },
    {
      "cell_type": "markdown",
      "metadata": {
        "id": "ykqT-fbSFItg"
      },
      "source": [
        "Let's load back in our saved model:\n",
        "\n"
      ]
    },
    {
      "cell_type": "markdown",
      "metadata": {
        "id": "DoB1_OCfFIth"
      },
      "source": [
        "Okay, now let us see what the neural network thinks these examples above are:\n",
        "\n"
      ]
    },
    {
      "cell_type": "code",
      "execution_count": 10,
      "metadata": {},
      "outputs": [],
      "source": [
        "best_ckpt_name= max(os.listdir(ckpt_dir), key=lambda x: float(x.split('=')[-1][:5]))\n",
        "\n",
        "net = ResNet.load_from_checkpoint(os.path.join(ckpt_dir, best_ckpt_name))\n",
        "net.eval()\n",
        "\n",
        "dataiter = iter(test_loader)\n",
        "images, labels = dataiter.next()\n",
        "\n",
        "outputs = net(images)"
      ]
    },
    {
      "cell_type": "markdown",
      "metadata": {
        "id": "RYffWCEsFIth"
      },
      "source": [
        "The outputs are energies for the 10 classes.\n",
        "The higher the energy for a class, the more the network\n",
        "thinks that the image is of the particular class.\n",
        "So, let's get the index of the highest energy:\n",
        "\n"
      ]
    },
    {
      "cell_type": "code",
      "execution_count": 11,
      "metadata": {
        "id": "---Wpn4bFIti"
      },
      "outputs": [
        {
          "name": "stdout",
          "output_type": "stream",
          "text": [
            "Predicted:  cat   ship  ship  plane\n"
          ]
        }
      ],
      "source": [
        "predicted = torch.argmax(outputs, dim=1)\n",
        "\n",
        "print('Predicted: ', ' '.join(f'{classes[predicted[j]]:5s}'\n",
        "                              for j in range(4)))"
      ]
    },
    {
      "cell_type": "markdown",
      "metadata": {
        "id": "H-AMVeChFIti"
      },
      "source": [
        "Let's look at how the network performs on the whole dataset.\n",
        "\n"
      ]
    },
    {
      "cell_type": "code",
      "execution_count": 12,
      "metadata": {
        "id": "D144ZGPoFIti"
      },
      "outputs": [
        {
          "name": "stdout",
          "output_type": "stream",
          "text": [
            "Accuracy of the network on the 10000 test images: 90.79000091552734 %\n"
          ]
        }
      ],
      "source": [
        "correct = 0\n",
        "total = len(test_dataset)\n",
        "# since we're not training, we don't need to calculate the gradients for our outputs\n",
        "with torch.no_grad():\n",
        "    for data in test_loader:\n",
        "        images, labels = data\n",
        "        outputs = net(images)\n",
        "        predicted = torch.argmax(outputs, dim=1)\n",
        "\n",
        "        correct += torch.sum(predicted == labels)\n",
        "Accuracy = correct / total\n",
        "print(f'Accuracy of the network on the 10000 test images: {Accuracy*100} %')"
      ]
    },
    {
      "cell_type": "markdown",
      "metadata": {
        "id": "deRs7EF-FItj"
      },
      "source": [
        "How good is the accuracy? Can you get more than 60%?"
      ]
    },
    {
      "cell_type": "markdown",
      "metadata": {
        "id": "hcdKiiSzFIti"
      },
      "source": [
        "EXTRA: print the classification performance per class"
      ]
    },
    {
      "cell_type": "code",
      "execution_count": 13,
      "metadata": {},
      "outputs": [
        {
          "name": "stdout",
          "output_type": "stream",
          "text": [
            "Accuracy of plane : 91.9 %\n",
            "Accuracy of car   : 95.7 %\n",
            "Accuracy of bird  : 83.9 %\n",
            "Accuracy of cat   : 85.5 %\n",
            "Accuracy of deer  : 88.8 %\n",
            "Accuracy of dog   : 88.1 %\n",
            "Accuracy of frog  : 96.0 %\n",
            "Accuracy of horse : 93.5 %\n",
            "Accuracy of ship  : 91.9 %\n",
            "Accuracy of truck : 92.6 %\n"
          ]
        }
      ],
      "source": [
        "total_by_class = {i: 0 for i in range(10)}\n",
        "correct_by_class = {i: 0 for i in range(10)}\n",
        "\n",
        "with torch.no_grad():\n",
        "    for data in test_loader:\n",
        "        images, labels = data\n",
        "        outputs = net(images)\n",
        "        predicted = torch.argmax(outputs, dim=1)\n",
        "\n",
        "        for i in range(len(labels)):\n",
        "            total_by_class[int(labels[i])] += 1\n",
        "            if predicted[i] == labels[i]:\n",
        "                correct_by_class[int(labels[i])] += 1\n",
        "\n",
        "for i in range(10):\n",
        "    print(f'Accuracy of {classes[i]:5s} : {100 * correct_by_class[i] / total_by_class[i]} %')"
      ]
    }
  ],
  "metadata": {
    "accelerator": "GPU",
    "colab": {
      "collapsed_sections": [],
      "provenance": []
    },
    "kernelspec": {
      "display_name": "Python 3.9.6 64-bit",
      "language": "python",
      "name": "python3"
    },
    "language_info": {
      "codemirror_mode": {
        "name": "ipython",
        "version": 3
      },
      "file_extension": ".py",
      "mimetype": "text/x-python",
      "name": "python",
      "nbconvert_exporter": "python",
      "pygments_lexer": "ipython3",
      "version": "3.9.6"
    },
    "vscode": {
      "interpreter": {
        "hash": "31f2aee4e71d21fbe5cf8b01ff0e069b9275f58929596ceb00d14d90e3e16cd6"
      }
    }
  },
  "nbformat": 4,
  "nbformat_minor": 0
}
